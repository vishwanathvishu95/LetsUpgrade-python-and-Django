{
 "cells": [
  {
   "cell_type": "markdown",
   "metadata": {},
   "source": [
    "# Assignment-12"
   ]
  },
  {
   "cell_type": "markdown",
   "metadata": {},
   "source": [
    "# Execute this code 3 times with iterator and generator expression and Write down your findings.\n"
   ]
  },
  {
   "cell_type": "code",
   "execution_count": 1,
   "metadata": {},
   "outputs": [
    {
     "name": "stdout",
     "output_type": "stream",
     "text": [
      "0:00:00.000999\n"
     ]
    }
   ],
   "source": [
    "import datetime\n",
    "main_list = list(range(10))\n",
    "t1 = datetime.datetime.now()\n",
    "list1 = (each**2 for each in main_list)\n",
    "for each in list1:\n",
    "  each\n",
    "t2 = datetime.datetime.now()\n",
    "print (t2-t1)"
   ]
  },
  {
   "cell_type": "code",
   "execution_count": 2,
   "metadata": {},
   "outputs": [
    {
     "name": "stdout",
     "output_type": "stream",
     "text": [
      "0:00:00\n"
     ]
    }
   ],
   "source": [
    "import datetime\n",
    "main_list = list(range(100))\n",
    "t1 = datetime.datetime.now()\n",
    "list1 = (each**2 for each in main_list)\n",
    "for each in list1:\n",
    "  each\n",
    "t2 = datetime.datetime.now()\n",
    "print (t2-t1)"
   ]
  },
  {
   "cell_type": "code",
   "execution_count": 3,
   "metadata": {},
   "outputs": [
    {
     "name": "stdout",
     "output_type": "stream",
     "text": [
      "0:00:00.001997\n"
     ]
    }
   ],
   "source": [
    "import datetime\n",
    "main_list = list(range(1000))\n",
    "t1 = datetime.datetime.now()\n",
    "list1 = (each**2 for each in main_list)\n",
    "for each in list1:\n",
    "  each\n",
    "t2 = datetime.datetime.now()\n",
    "print (t2-t1)"
   ]
  },
  {
   "cell_type": "code",
   "execution_count": 4,
   "metadata": {},
   "outputs": [
    {
     "name": "stdout",
     "output_type": "stream",
     "text": [
      "0:00:00.008993\n"
     ]
    }
   ],
   "source": [
    "import datetime\n",
    "main_list = list(range(10000))\n",
    "t1 = datetime.datetime.now()\n",
    "list1 = (each**2 for each in main_list)\n",
    "for each in list1:\n",
    "  each\n",
    "t2 = datetime.datetime.now()\n",
    "print (t2-t1)"
   ]
  },
  {
   "cell_type": "code",
   "execution_count": 5,
   "metadata": {},
   "outputs": [
    {
     "name": "stdout",
     "output_type": "stream",
     "text": [
      "0:00:00.112929\n"
     ]
    }
   ],
   "source": [
    "import datetime\n",
    "main_list = list(range(100000))\n",
    "t1 = datetime.datetime.now()\n",
    "list1 = (each**2 for each in main_list)\n",
    "for each in list1:\n",
    "  each\n",
    "t2 = datetime.datetime.now()\n",
    "print (t2-t1)"
   ]
  },
  {
   "cell_type": "code",
   "execution_count": 6,
   "metadata": {},
   "outputs": [
    {
     "name": "stdout",
     "output_type": "stream",
     "text": [
      "0:00:00.863466\n"
     ]
    }
   ],
   "source": [
    "import datetime\n",
    "main_list = list(range(1000000))\n",
    "t1 = datetime.datetime.now()\n",
    "list1 = (each**2 for each in main_list)\n",
    "for each in list1:\n",
    "  each\n",
    "t2 = datetime.datetime.now()\n",
    "print (t2-t1)"
   ]
  },
  {
   "cell_type": "code",
   "execution_count": 7,
   "metadata": {},
   "outputs": [
    {
     "name": "stdout",
     "output_type": "stream",
     "text": [
      "0:00:08.520034\n"
     ]
    }
   ],
   "source": [
    "import datetime\n",
    "main_list = list(range(10000000))\n",
    "t1 = datetime.datetime.now()\n",
    "list1 = (each**2 for each in main_list)\n",
    "for each in list1:\n",
    "  each\n",
    "t2 = datetime.datetime.now()\n",
    "print (t2-t1)"
   ]
  },
  {
   "cell_type": "code",
   "execution_count": null,
   "metadata": {},
   "outputs": [],
   "source": []
  }
 ],
 "metadata": {
  "kernelspec": {
   "display_name": "Python 3",
   "language": "python",
   "name": "python3"
  },
  "language_info": {
   "codemirror_mode": {
    "name": "ipython",
    "version": 3
   },
   "file_extension": ".py",
   "mimetype": "text/x-python",
   "name": "python",
   "nbconvert_exporter": "python",
   "pygments_lexer": "ipython3",
   "version": "3.7.6"
  }
 },
 "nbformat": 4,
 "nbformat_minor": 4
}
