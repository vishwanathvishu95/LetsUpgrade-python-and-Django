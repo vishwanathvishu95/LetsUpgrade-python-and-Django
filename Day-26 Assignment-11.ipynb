{
 "cells": [
  {
   "cell_type": "markdown",
   "metadata": {},
   "source": [
    "# Assignment-11\n",
    "\n",
    "# Perform the shallow and deep copy experiment\n"
   ]
  },
  {
   "cell_type": "markdown",
   "metadata": {},
   "source": [
    "# Shallow copy"
   ]
  },
  {
   "cell_type": "code",
   "execution_count": 2,
   "metadata": {},
   "outputs": [
    {
     "name": "stdout",
     "output_type": "stream",
     "text": [
      "['xy', 56, 'z', 100]\n",
      "['xy', 56, 'z', 100]\n",
      "2066505483400\n",
      "2066505512456\n"
     ]
    }
   ],
   "source": [
    "lst=['xy',56,'z',100]\n",
    "lst1=['xyz',564,23,'a']\n",
    "lst2=list[:]\n",
    "print(lst)\n",
    "print(lst2)\n",
    "print(id(lst2))\n",
    "print(id(lst))"
   ]
  },
  {
   "cell_type": "markdown",
   "metadata": {},
   "source": [
    "# Deepcopy"
   ]
  },
  {
   "cell_type": "code",
   "execution_count": 3,
   "metadata": {},
   "outputs": [
    {
     "name": "stdout",
     "output_type": "stream",
     "text": [
      "[['Vishwanatham'], 100, 56, ['Gorla']]\n"
     ]
    }
   ],
   "source": [
    "from copy import deepcopy\n",
    "lst3=[['Vishwanatham'],100,56,['Gorla']]\n",
    "lst4=deepcopy(lst3)\n",
    "print(lst4)"
   ]
  },
  {
   "cell_type": "code",
   "execution_count": 6,
   "metadata": {},
   "outputs": [
    {
     "name": "stdout",
     "output_type": "stream",
     "text": [
      "[['Vishwanatham'], 100, 56, ['Gorla'], 5, 6, 5]\n",
      "[['Vishwanatham'], 100, 56, ['Gorla']]\n"
     ]
    }
   ],
   "source": [
    "lst3.append(5)\n",
    "print(lst3)\n",
    "print(lst4)"
   ]
  },
  {
   "cell_type": "code",
   "execution_count": 7,
   "metadata": {},
   "outputs": [
    {
     "name": "stdout",
     "output_type": "stream",
     "text": [
      "[['Vishwanatham', 'Vishu'], 100, 56, ['Gorla'], 5, 6, 5]\n",
      "[['Vishwanatham'], 100, 56, ['Gorla']]\n"
     ]
    }
   ],
   "source": [
    "lst3[0].append('Vishu')\n",
    "print(lst3)\n",
    "print(lst4)"
   ]
  },
  {
   "cell_type": "code",
   "execution_count": 8,
   "metadata": {},
   "outputs": [
    {
     "name": "stdout",
     "output_type": "stream",
     "text": [
      "[['Vishwanatham', 'Vishu'], 100, 56, ['Gorla'], 5, 6, 5]\n",
      "[['Vishwanatham', 'Vishu'], 100, 56, ['Gorla']]\n"
     ]
    }
   ],
   "source": [
    "lst4[0].append('Vishu')\n",
    "print(lst3)\n",
    "print(lst4)"
   ]
  },
  {
   "cell_type": "code",
   "execution_count": null,
   "metadata": {},
   "outputs": [],
   "source": []
  }
 ],
 "metadata": {
  "kernelspec": {
   "display_name": "Python 3",
   "language": "python",
   "name": "python3"
  },
  "language_info": {
   "codemirror_mode": {
    "name": "ipython",
    "version": 3
   },
   "file_extension": ".py",
   "mimetype": "text/x-python",
   "name": "python",
   "nbconvert_exporter": "python",
   "pygments_lexer": "ipython3",
   "version": "3.7.6"
  }
 },
 "nbformat": 4,
 "nbformat_minor": 4
}
