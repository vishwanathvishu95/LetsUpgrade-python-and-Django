{
 "cells": [
  {
   "cell_type": "markdown",
   "metadata": {},
   "source": [
    "# Writa Program using PyQt and Display a main window using Check Box."
   ]
  },
  {
   "cell_type": "code",
   "execution_count": null,
   "metadata": {},
   "outputs": [],
   "source": [
    "from PyQt5 import QtCore, QtGui, QtWidgets\n",
    "\n",
    "\n",
    "class Ui_MainWindow(object):\n",
    "    def setupUi(self, MainWindow):\n",
    "        MainWindow.setObjectName(\"MainWindow\")\n",
    "        MainWindow.resize(536, 444)\n",
    "        self.centralwidget = QtWidgets.QWidget(MainWindow)\n",
    "        self.centralwidget.setObjectName(\"centralwidget\")\n",
    "        self.textEdit_mohit = QtWidgets.QTextEdit(self.centralwidget)\n",
    "        self.textEdit_mohit.setGeometry(QtCore.QRect(40, 30, 461, 141))\n",
    "        font = QtGui.QFont()\n",
    "        font.setPointSize(20)\n",
    "        self.textEdit_mohit.setFont(font)\n",
    "        self.textEdit_mohit.setObjectName(\"textEdit_mohit\")\n",
    "        self.lineEdit_mohit = QtWidgets.QLineEdit(self.centralwidget)\n",
    "        self.lineEdit_mohit.setGeometry(QtCore.QRect(40, 290, 451, 71))\n",
    "        font = QtGui.QFont()\n",
    "        font.setPointSize(18)\n",
    "        self.lineEdit_mohit.setFont(font)\n",
    "        self.lineEdit_mohit.setObjectName(\"lineEdit_mohit\")\n",
    "        self.checkBox = QtWidgets.QCheckBox(self.centralwidget)\n",
    "        self.checkBox.setGeometry(QtCore.QRect(140, 200, 191, 51))\n",
    "        font = QtGui.QFont()\n",
    "        font.setPointSize(12)\n",
    "        self.checkBox.setFont(font)\n",
    "        self.checkBox.setObjectName(\"checkBox\")\n",
    "        MainWindow.setCentralWidget(self.centralwidget)\n",
    "        self.menubar = QtWidgets.QMenuBar(MainWindow)\n",
    "        self.menubar.setGeometry(QtCore.QRect(0, 0, 536, 26))\n",
    "        self.menubar.setObjectName(\"menubar\")\n",
    "        MainWindow.setMenuBar(self.menubar)\n",
    "        self.statusbar = QtWidgets.QStatusBar(MainWindow)\n",
    "        self.statusbar.setObjectName(\"statusbar\")\n",
    "        MainWindow.setStatusBar(self.statusbar)\n",
    "\n",
    "        self.retranslateUi(MainWindow)\n",
    "        QtCore.QMetaObject.connectSlotsByName(MainWindow)\n",
    "\n",
    "    def retranslateUi(self, MainWindow):\n",
    "        _translate = QtCore.QCoreApplication.translate\n",
    "        MainWindow.setWindowTitle(_translate(\"MainWindow\", \"MainWindow\"))\n",
    "        \n",
    "        self.checkBox.setText(_translate(\"MainWindow\", \"Click to copy Paste\"))\n",
    "        self.checkBox.toggled.connect(self.copy)\n",
    "\n",
    "    def copy(self):\n",
    "        data =self.textEdit_mohit.toPlainText()\n",
    "        self.lineEdit_mohit.setText(data )\n",
    "        self.checkBox.setText(\"Clicked pasted\")  \n",
    "\n",
    "\n",
    "if __name__ == \"__main__\":\n",
    "    import sys\n",
    "    app = QtWidgets.QApplication(sys.argv)\n",
    "    MainWindow = QtWidgets.QMainWindow()\n",
    "    ui = Ui_MainWindow()\n",
    "    ui.setupUi(MainWindow)\n",
    "    MainWindow.show()\n",
    "    sys.exit(app.exec_())\n"
   ]
  },
  {
   "cell_type": "code",
   "execution_count": null,
   "metadata": {},
   "outputs": [],
   "source": []
  },
  {
   "cell_type": "code",
   "execution_count": null,
   "metadata": {},
   "outputs": [],
   "source": [
    "    "
   ]
  }
 ],
 "metadata": {
  "kernelspec": {
   "display_name": "Python 3",
   "language": "python",
   "name": "python3"
  },
  "language_info": {
   "codemirror_mode": {
    "name": "ipython",
    "version": 3
   },
   "file_extension": ".py",
   "mimetype": "text/x-python",
   "name": "python",
   "nbconvert_exporter": "python",
   "pygments_lexer": "ipython3",
   "version": "3.7.6"
  }
 },
 "nbformat": 4,
 "nbformat_minor": 4
}
