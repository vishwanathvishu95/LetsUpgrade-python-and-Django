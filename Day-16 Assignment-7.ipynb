{
 "cells": [
  {
   "cell_type": "markdown",
   "metadata": {},
   "source": [
    "# Make a regular expression to get all IP addresses from the below link and Extract the IP Address.\n",
    "\n",
    "\n",
    "# https://study-ccna.com/classes-of-ip-addresses/"
   ]
  },
  {
   "cell_type": "code",
   "execution_count": 2,
   "metadata": {},
   "outputs": [
    {
     "name": "stdout",
     "output_type": "stream",
     "text": [
      "10.50.120.7\n",
      "10.47.8.4\n",
      "11.5.4.3\n",
      "172.16.55.1\n",
      "172.16.254.3\n",
      "172.55.54.7\n",
      "0.0.0.0\n",
      "127.0.0.0\n",
      "169.254.0.0\n"
     ]
    }
   ],
   "source": [
    "import requests\n",
    "import re\n",
    "url=\"https://study-ccna.com/classes-of-ip-addresses/\"\n",
    "r=requests.get(url)\n",
    "data_ip=r.text\n",
    "ip=r\"[0-9]+\\.[0-9]+\\.[0-9]+\\.[0-9]\"\n",
    "list_ip=re.findall(ip,data_ip)\n",
    "for each in list_ip:\n",
    "  print(each)"
   ]
  }
 ],
 "metadata": {
  "kernelspec": {
   "display_name": "Python 3",
   "language": "python",
   "name": "python3"
  },
  "language_info": {
   "codemirror_mode": {
    "name": "ipython",
    "version": 3
   },
   "file_extension": ".py",
   "mimetype": "text/x-python",
   "name": "python",
   "nbconvert_exporter": "python",
   "pygments_lexer": "ipython3",
   "version": "3.7.6"
  }
 },
 "nbformat": 4,
 "nbformat_minor": 4
}
