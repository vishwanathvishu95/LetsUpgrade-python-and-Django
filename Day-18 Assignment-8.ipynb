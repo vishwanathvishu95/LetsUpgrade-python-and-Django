{
 "cells": [
  {
   "cell_type": "markdown",
   "metadata": {},
   "source": [
    "# Write a program to Find the given String in the root Directory that contains a text file\n",
    "\n",
    "# 1. In a recursive manner (case in sensitive)\n",
    "\n",
    "# 2. only in the root directory\n",
    "\n",
    "# use command line arguments\n",
    "\n",
    "# program_name -ri string root_dir (recursive)\n",
    "\n",
    "# program_name -si string root_dir (root director)\n",
    "\n",
    "# The output which file and line contains the string"
   ]
  },
  {
   "cell_type": "code",
   "execution_count": 1,
   "metadata": {},
   "outputs": [
    {
     "name": "stdout",
     "output_type": "stream",
     "text": [
      "D:\\LETSUPGRADE\\python programs\\among.py\n",
      "D:\\LETSUPGRADE\\python programs\\arg.py\n",
      "D:\\LETSUPGRADE\\python programs\\arg1.py\n",
      "D:\\LETSUPGRADE\\python programs\\atm.py\n",
      "D:\\LETSUPGRADE\\python programs\\battery.py\n",
      "D:\\LETSUPGRADE\\python programs\\cafe.py\n",
      "D:\\LETSUPGRADE\\python programs\\cal.py\n",
      "D:\\LETSUPGRADE\\python programs\\cal2.py\n",
      "D:\\LETSUPGRADE\\python programs\\col.py\n",
      "D:\\LETSUPGRADE\\python programs\\col2.py\n",
      "D:\\LETSUPGRADE\\python programs\\dic.py\n",
      "D:\\LETSUPGRADE\\python programs\\ephr.py\n",
      "D:\\LETSUPGRADE\\python programs\\fun.py\n",
      "D:\\LETSUPGRADE\\python programs\\joke.py\n",
      "D:\\LETSUPGRADE\\python programs\\logo.py\n",
      "D:\\LETSUPGRADE\\python programs\\meta.py\n",
      "D:\\LETSUPGRADE\\python programs\\narg.py\n",
      "D:\\LETSUPGRADE\\python programs\\narg1.py\n",
      "D:\\LETSUPGRADE\\python programs\\olympics.py\n",
      "D:\\LETSUPGRADE\\python programs\\reg.py\n",
      "D:\\LETSUPGRADE\\python programs\\snake.py\n",
      "D:\\LETSUPGRADE\\python programs\\snake1.py\n",
      "D:\\LETSUPGRADE\\python programs\\spiro2.py\n",
      "D:\\LETSUPGRADE\\python programs\\spirograph.py\n",
      "D:\\LETSUPGRADE\\python programs\\tk.py\n",
      "D:\\LETSUPGRADE\\python programs\\tk1.py\n",
      "D:\\LETSUPGRADE\\python programs\\tk2.py\n",
      "D:\\LETSUPGRADE\\python programs\\tk3.py\n",
      "D:\\LETSUPGRADE\\python programs\\tk4.py\n",
      "D:\\LETSUPGRADE\\python programs\\tk5.py\n",
      "D:\\LETSUPGRADE\\python programs\\tk6.py\n",
      "D:\\LETSUPGRADE\\python programs\\yt.py\n",
      "D:\\LETSUPGRADE\\python programs\\yuotube.py\n",
      "D:\\LETSUPGRADE\\python programs\\1234\\ATM.py\n",
      "D:\\LETSUPGRADE\\python programs\\1234\\atm_sim_accounts.pickle\n",
      "D:\\LETSUPGRADE\\python programs\\1234\\dict.png\n",
      "D:\\LETSUPGRADE\\python programs\\1234\\DICT.py\n",
      "D:\\LETSUPGRADE\\python programs\\1234\\Email.py\n",
      "D:\\LETSUPGRADE\\python programs\\1234\\gmail.jpg\n",
      "D:\\LETSUPGRADE\\python programs\\1234\\gmail.png\n",
      "D:\\LETSUPGRADE\\python programs\\1234\\icon.ico\n",
      "D:\\LETSUPGRADE\\python programs\\screenshots programs\\Screenshot 2020-10-18 185229.png\n",
      "D:\\LETSUPGRADE\\python programs\\screenshots programs\\Screenshot 2020-10-18 185944.png\n",
      "D:\\LETSUPGRADE\\python programs\\screenshots programs\\Screenshot 2020-10-18 190008.png\n",
      "D:\\LETSUPGRADE\\python programs\\screenshots programs\\Screenshot 2020-10-18 190958.png\n",
      "D:\\LETSUPGRADE\\python programs\\screenshots programs\\Screenshot 2020-10-18 192333.png\n",
      "D:\\LETSUPGRADE\\python programs\\screenshots programs\\Screenshot 2020-10-18 194116 new.png\n",
      "D:\\LETSUPGRADE\\python programs\\screenshots programs\\Screenshot 2020-10-18 194116.png\n",
      "D:\\LETSUPGRADE\\python programs\\__pycache__\\email.cpython-39.pyc\n"
     ]
    }
   ],
   "source": [
    "import os\n",
    "root=\"D:\\LETSUPGRADE\\python programs\"\n",
    "for root,dir,files in os.walk(root):\n",
    "  for s in files:\n",
    "    path=root+\"\\\\\"+s\n",
    "    print(path)\n",
    "\n",
    "def check_string_in_file(f, string_to_search):\n",
    "    with open(file_name, 'r') as read_obj:\n",
    "        for line in read_obj:\n",
    "            if string_to_search in line:\n",
    "                return True\n",
    "    return False\n",
    "    with open(f) as myFile:\n",
    "        for num, line in enumerate(myFile, 1):\n",
    "             if lookup in line:\n",
    "               print('found at line:', num)"
   ]
  },
  {
   "cell_type": "code",
   "execution_count": null,
   "metadata": {},
   "outputs": [],
   "source": []
  }
 ],
 "metadata": {
  "kernelspec": {
   "display_name": "Python 3",
   "language": "python",
   "name": "python3"
  },
  "language_info": {
   "codemirror_mode": {
    "name": "ipython",
    "version": 3
   },
   "file_extension": ".py",
   "mimetype": "text/x-python",
   "name": "python",
   "nbconvert_exporter": "python",
   "pygments_lexer": "ipython3",
   "version": "3.7.6"
  }
 },
 "nbformat": 4,
 "nbformat_minor": 4
}
