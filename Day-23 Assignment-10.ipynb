{
 "cells": [
  {
   "cell_type": "markdown",
   "metadata": {},
   "source": [
    "# Day-23 Assignment\n",
    "\n",
    "# Question:\n",
    "# Finder program\n",
    "# Dict, list, queue\n",
    "# directory --- os.walk()"
   ]
  },
  {
   "cell_type": "code",
   "execution_count": null,
   "metadata": {},
   "outputs": [],
   "source": [
    "import os\n",
    "import re\n",
    "import time\n",
    "t1=time.time()\n",
    "dict={}\n",
    "x=1\n",
    "def get_drives():\n",
    "  resp=os.popen(\"disk caption\")\n",
    "  drive=resp.read\n",
    "  return drive.split()[1:]\n",
    "\n",
    "def creatingindex(path):\n",
    "  global x\n",
    "  resp=os.walk(path)\n",
    "  for root,d,files in resp:\n",
    "    for files in file:\n",
    "      path1=root+\"\\\\\"+gile\n",
    "      print(path1)\n",
    "      file1=file+\"|\"+str(x)\n",
    "      dict1[file1]=path1\n",
    "      x=x+1\n",
    "\n",
    "def search(file1):\n",
    "  for k,v in dict.items():\n",
    "    k=k.split(\"l\")[0]\n",
    "    m=re.search(file1,k,re.l)\n",
    "    if m:\n",
    "      print(k,\":\",v)\n",
    "\n",
    "for d in get_drives():\n",
    "  print(d)\n",
    "  creatingindex(d+\"//\")\n",
    "t2=time.time()\n",
    "print(t2-t1)\n",
    "file1=input(\"Enter the file name\")\n",
    "search(file1)"
   ]
  }
 ],
 "metadata": {
  "kernelspec": {
   "display_name": "Python 3",
   "language": "python",
   "name": "python3"
  },
  "language_info": {
   "codemirror_mode": {
    "name": "ipython",
    "version": 3
   },
   "file_extension": ".py",
   "mimetype": "text/x-python",
   "name": "python",
   "nbconvert_exporter": "python",
   "pygments_lexer": "ipython3",
   "version": "3.7.6"
  }
 },
 "nbformat": 4,
 "nbformat_minor": 4
}
