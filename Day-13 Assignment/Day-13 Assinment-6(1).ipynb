{
 "cells": [
  {
   "cell_type": "markdown",
   "metadata": {},
   "source": [
    "# Day-13 Assignment-2\n"
   ]
  },
  {
   "cell_type": "markdown",
   "metadata": {},
   "source": [
    "# Print the all Possible Paths for a file."
   ]
  },
  {
   "cell_type": "code",
   "execution_count": 6,
   "metadata": {},
   "outputs": [
    {
     "name": "stdout",
     "output_type": "stream",
     "text": [
      "Enter the file name:LetsUpgrade\n",
      "D:\\Assignment\n",
      "--------------------------------------------------\n",
      "D:\\Assignment\\Project\n",
      "--------------------------------------------------\n"
     ]
    }
   ],
   "source": [
    "import os\n",
    "\n",
    "rep=os.walk('D:\\Assignment')\n",
    "d1={}\n",
    "for r,d,f in rep:\n",
    "    for file in f:\n",
    "        d1.setdefault(file,[]).append(r)\n",
    "file_name=input('Enter the file name:')\n",
    "for k,v in d1.items():\n",
    "    if file_name.lower() in k.lower():\n",
    "        for i in v:\n",
    "            print(i)\n",
    "            print('-'*50)\n"
   ]
  },
  {
   "cell_type": "code",
   "execution_count": null,
   "metadata": {},
   "outputs": [],
   "source": []
  }
 ],
 "metadata": {
  "kernelspec": {
   "display_name": "Python 3",
   "language": "python",
   "name": "python3"
  },
  "language_info": {
   "codemirror_mode": {
    "name": "ipython",
    "version": 3
   },
   "file_extension": ".py",
   "mimetype": "text/x-python",
   "name": "python",
   "nbconvert_exporter": "python",
   "pygments_lexer": "ipython3",
   "version": "3.7.6"
  }
 },
 "nbformat": 4,
 "nbformat_minor": 4
}
