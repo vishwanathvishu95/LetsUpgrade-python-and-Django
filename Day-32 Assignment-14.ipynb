{
 "cells": [
  {
   "cell_type": "markdown",
   "metadata": {},
   "source": [
    "# Day-32 Assignment\n",
    "# Question :\n",
    "# Apply multi-threading to server_code so that It could give the service to multiple clients."
   ]
  },
  {
   "cell_type": "code",
   "execution_count": null,
   "metadata": {},
   "outputs": [
    {
     "name": "stdout",
     "output_type": "stream",
     "text": [
      "Multithreaded Python server : Waiting for connections from TCP clients...\n"
     ]
    }
   ],
   "source": [
    "import socket \n",
    "from threading import Thread \n",
    "from socketserver import ThreadingMixIn \n",
    "\n",
    "\n",
    "class ClientThread(Thread): \n",
    " \n",
    "    def __init__(self,ip,port): \n",
    "        Thread.__init__(self) \n",
    "        self.ip = ip \n",
    "        self.port = port \n",
    "        print (\"[+] New server socket thread started for \" + ip + \":\" + str(port)) \n",
    " \n",
    "    def run(self): \n",
    "        while True : \n",
    "            data = conn.recv(2048) \n",
    "            print (\"Server received data:\", data)\n",
    "            MESSAGE = raw_input(\"Multithreaded Python server : Enter Response from Server/Enter exit:\")\n",
    "            if MESSAGE == 'exit':\n",
    "                break\n",
    "            conn.send(MESSAGE)  # echo \n",
    "\n",
    "\n",
    "TCP_IP = '0.0.0.0' \n",
    "TCP_PORT = 2004 \n",
    "BUFFER_SIZE = 20   \n",
    "\n",
    "tcpServer = socket.socket(socket.AF_INET, socket.SOCK_STREAM) \n",
    "tcpServer.setsockopt(socket.SOL_SOCKET, socket.SO_REUSEADDR, 1) \n",
    "tcpServer.bind((TCP_IP, TCP_PORT)) \n",
    "threads = [] \n",
    " \n",
    "while True: \n",
    "    tcpServer.listen(4) \n",
    "    print (\"Multithreaded Python server : Waiting for connections from TCP clients...\") \n",
    "    (conn, (ip,port)) = tcpServer.accept() \n",
    "    newthread = ClientThread(ip,port) \n",
    "    newthread.start() \n",
    "    threads.append(newthread) \n",
    " \n",
    "for t in threads: \n",
    "    t.join() \n",
    "\n",
    "\n",
    "\n",
    "import socket \n",
    "\n",
    "host = socket.gethostname() \n",
    "port = 2004\n",
    "BUFFER_SIZE = 2000 \n",
    "MESSAGE = raw_input(\"tcpClientA: Enter message/ Enter exit:\") \n",
    " \n",
    "tcpClientA = socket.socket(socket.AF_INET, socket.SOCK_STREAM) \n",
    "tcpClientA.connect((host, port))\n",
    "\n",
    "while MESSAGE != 'exit':\n",
    "    tcpClientA.send(MESSAGE)     \n",
    "    data = tcpClientA.recv(BUFFER_SIZE)\n",
    "    print (\" Client2 received data:\", data)\n",
    "    MESSAGE = raw_input(\"tcpClientA: Enter message to continue/ Enter exit:\")\n",
    "\n",
    "tcpClientA.close() \n",
    "\n",
    "\n",
    "\n",
    "\n",
    "\n",
    "import socket \n",
    "\n",
    "host = socket.gethostname() \n",
    "port = 2004\n",
    "BUFFER_SIZE = 2000 \n",
    "MESSAGE = raw_input(\"tcpClientB: Enter message/ Enter exit:\")\n",
    " \n",
    "tcpClientB = socket.socket(socket.AF_INET, socket.SOCK_STREAM) \n",
    "tcpClientB.connect((host, port))\n",
    "\n",
    "while MESSAGE != 'exit':\n",
    "    tcpClientB.send(MESSAGE)     \n",
    "    data = tcpClientB.recv(BUFFER_SIZE)\n",
    "    print (\" Client received data:\", data)\n",
    "    MESSAGE = raw_input(\"tcpClientB: Enter message to continue/ Enter exit:\")\n",
    "\n",
    "tcpClientB.close()"
   ]
  },
  {
   "cell_type": "code",
   "execution_count": null,
   "metadata": {},
   "outputs": [],
   "source": []
  }
 ],
 "metadata": {
  "kernelspec": {
   "display_name": "Python 3",
   "language": "python",
   "name": "python3"
  },
  "language_info": {
   "codemirror_mode": {
    "name": "ipython",
    "version": 3
   },
   "file_extension": ".py",
   "mimetype": "text/x-python",
   "name": "python",
   "nbconvert_exporter": "python",
   "pygments_lexer": "ipython3",
   "version": "3.7.6"
  }
 },
 "nbformat": 4,
 "nbformat_minor": 4
}
